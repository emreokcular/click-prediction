{
 "cells": [
  {
   "cell_type": "markdown",
   "metadata": {},
   "source": [
    "# MSDS 699 - Machine Learning Laboratory"
   ]
  },
  {
   "cell_type": "markdown",
   "metadata": {},
   "source": [
    "## Final Project"
   ]
  },
  {
   "cell_type": "markdown",
   "metadata": {},
   "source": [
    "Author: Tencent Inc.\n",
    "Source: [KDD Cup](https://www.kddcup2012.org/) - 2012\n",
    "Please cite:\n",
    "\n",
    "This data set is the same as version 4, but has additional unlabeled data attached to it. This is meant for a machine learning challenge. The complete labeled version of this dataset is version 6 (but this version is kept private for the duration of the challenge).\n",
    "\n",
    "This data is derived from the 2012 KDD Cup. The data is subsampled to 1% of the original number of instances, downsampling the majority class (click=0) so that the target feature is reasonably balanced (5 to 1).\n",
    "\n",
    "The data is about advertisements shown alongside search results in a search engine, and whether or not people clicked on these ads.\n",
    "The task is to build the best possible model to predict whether a user will click on a given ad.\n",
    "\n",
    "A search session contains information on user id, the query issued by the user, ads displayed to the user, and target feature indicating whether a user clicked at least one of the ads in this session. The number of ads displayed to a user in a session is called ‘depth’. The order of an ad in the displayed list is called ‘position’. An ad is displayed as a short text called ‘title’, followed by a slightly longer text called ’description’, and a URL called ‘display URL’.\n",
    "To construct this dataset each session was split into multiple instances. Each instance describes an ad displayed under a certain setting (‘depth’, ‘position’). Instances with the same user id, ad id, query, and setting are merged. Each ad and each user have some additional properties located in separate data files that can be looked up using ids in the instances.\n",
    "\n",
    "The dataset has the following features:\n",
    "* Click – binary variable indicating whether a user clicked on at least one ad.\n",
    "* Impression - the number of search sessions in which AdID was impressed by UserID who issued Query.\n",
    "* Url_hash - URL is hashed for anonymity\n",
    "* AdID\n",
    "* AdvertiserID - some advertisers consistently optimize their ads, so the title and description of their ads are more attractive than those of others’ ads.\n",
    "* Depth - number of ads displayed to a user in a session\n",
    "* Position - order of an ad in the displayed list\n",
    "* QueryID - is the key of the data file 'queryid_tokensid.txt'. (follow the link to the original KDD Cup page, track 2)\n",
    "* KeywordID - is the key of 'purchasedkeyword_tokensid.txt' (follow the link to the original KDD Cup page, track 2)\n",
    "* TitleID - is the key of 'titleid_tokensid.txt'\n",
    "* DescriptionID - is the key of 'descriptionid_tokensid.txt' (follow the link to the original KDD Cup page, track 2)\n",
    "* UserID – is also the key of 'userid_profile.txt' (follow the link to the original KDD Cup page, track 2). 0 is a special value denoting that the user could be identified.\n",
    "\n",
    "<h2>Table of Contents<span class=\"tocSkip\"></span></h2>\n",
    "<div class=\"toc\"><ul class=\"toc-item\"><li><span><a href=\"#Final-Project-Check-in\" data-toc-modified-id=\"Final-Project-Check-in-1\">Final Project Check-in</a></span></li><li><span><a href=\"#Group-Name\" data-toc-modified-id=\"Group-Name-2\">Group Name</a></span></li><li><span><a href=\"#Student-Names\" data-toc-modified-id=\"Student-Names-3\">Student Names</a></span></li><li><span><a href=\"#Load-Data\" data-toc-modified-id=\"Load-Data-4\">Load Data</a></span></li><li><span><a href=\"#Fit-scikit-learn-model\" data-toc-modified-id=\"Fit-scikit-learn-model-5\">Fit scikit-learn model</a></span></li><li><span><a href=\"#Evaluation-Metric\" data-toc-modified-id=\"Evaluation-Metric-6\">Evaluation Metric</a></span></li></ul></div>"
   ]
  },
  {
   "cell_type": "code",
   "execution_count": 5,
   "metadata": {},
   "outputs": [],
   "source": [
    "import numpy as np\n",
    "import pandas as pd\n",
    "from scipy.io.arff import loadarff \n",
    "\n",
    "# Imports\n",
    "# Do NOT import anything else\n",
    "from   category_encoders          import *\n",
    "import numpy as np\n",
    "import pandas as pd\n",
    "from   sklearn.compose            import *\n",
    "from   sklearn.ensemble           import RandomForestClassifier, ExtraTreesClassifier, IsolationForest\n",
    "from   sklearn.experimental       import enable_iterative_imputer\n",
    "from   sklearn.impute             import *\n",
    "from   sklearn.linear_model       import LogisticRegression, PassiveAggressiveClassifier, RidgeClassifier, SGDClassifier\n",
    "from   sklearn.metrics            import balanced_accuracy_score # Evaluation metric 2.0 \n",
    "from   sklearn.pipeline           import Pipeline\n",
    "from   sklearn.preprocessing      import *\n",
    "from   sklearn.tree               import DecisionTreeClassifier, ExtraTreeClassifier\n",
    "from  sklearn.ensemble         import RandomForestClassifier\n",
    "from   sklearn.metrics         import mean_absolute_error # Easier to interpert than MSE. We'll discuss it in detail later\n",
    "from   sklearn.model_selection import train_test_split"
   ]
  },
  {
   "cell_type": "markdown",
   "metadata": {},
   "source": [
    "## Exploratory Data Analysis"
   ]
  },
  {
   "cell_type": "code",
   "execution_count": 80,
   "metadata": {},
   "outputs": [],
   "source": [
    "raw_data_arff = loadarff('phpfGCaQC.arff')\n",
    "df = pd.DataFrame(raw_data_arff[0])"
   ]
  },
  {
   "cell_type": "code",
   "execution_count": 81,
   "metadata": {},
   "outputs": [],
   "source": [
    "df[\"click\"] = df['click'].str.decode(\"utf-8\").astype(\"category\")\n",
    "df[\"ad_id\"] = df[\"ad_id\"].astype(int)\n",
    "df[\"advertiser_id\"] = df[\"advertiser_id\"].astype(int)\n",
    "df[\"depth\"] = df[\"depth\"].astype(int)\n",
    "df[\"position\"] = df[\"position\"].astype(int)\n",
    "df[\"query_id\"] = df[\"query_id\"].astype(int)\n",
    "df[\"keyword_id\"] = df[\"keyword_id\"].astype(int)\n",
    "df[\"title_id\"] = df[\"title_id\"].astype(int)\n",
    "df[\"description_id\"] = df[\"description_id\"].astype(int)\n",
    "df[\"user_id\"] = df[\"user_id\"].astype(int)\n",
    "df[\"impression\"] = df[\"impression\"].astype(int)\n",
    "df[\"url_hash\"] = df[\"url_hash\"].astype(\"category\")"
   ]
  },
  {
   "cell_type": "code",
   "execution_count": 68,
   "metadata": {},
   "outputs": [],
   "source": [
    "df[\"click\"] = df['click'].str.decode(\"utf-8\").astype(\"category\")\n",
    "df[\"ad_id\"] = df[\"ad_id\"].astype(\"category\")\n",
    "df[\"advertiser_id\"] = df[\"advertiser_id\"].astype(\"category\")\n",
    "df[\"depth\"] = df[\"depth\"].astype(int)\n",
    "df[\"position\"] = df[\"position\"].astype(\"category\")\n",
    "df[\"query_id\"] = df[\"query_id\"].astype(\"category\")\n",
    "df[\"keyword_id\"] = df[\"keyword_id\"].astype(\"category\")\n",
    "df[\"title_id\"] = df[\"title_id\"].astype(\"category\")\n",
    "df[\"description_id\"] = df[\"description_id\"].astype(\"category\")\n",
    "df[\"user_id\"] = df[\"user_id\"].astype(\"category\")\n",
    "df[\"impression\"] = df[\"impression\"].astype(int)\n",
    "df[\"url_hash\"] = df[\"url_hash\"].astype(\"category\")"
   ]
  },
  {
   "cell_type": "code",
   "execution_count": 8,
   "metadata": {},
   "outputs": [
    {
     "data": {
      "application/vnd.jupyter.widget-view+json": {
       "model_id": "1c72ea78ea62403f97ffc39badd9a71f",
       "version_major": 2,
       "version_minor": 0
      },
      "text/plain": [
       "HBox(children=(FloatProgress(value=0.0, description='Summarize dataset', max=26.0, style=ProgressStyle(descrip…"
      ]
     },
     "metadata": {},
     "output_type": "display_data"
    },
    {
     "name": "stdout",
     "output_type": "stream",
     "text": [
      "\n"
     ]
    },
    {
     "data": {
      "application/vnd.jupyter.widget-view+json": {
       "model_id": "a9dde41870794ccb93517602ec910f57",
       "version_major": 2,
       "version_minor": 0
      },
      "text/plain": [
       "HBox(children=(FloatProgress(value=0.0, description='Generate report structure', max=1.0, style=ProgressStyle(…"
      ]
     },
     "metadata": {},
     "output_type": "display_data"
    },
    {
     "name": "stdout",
     "output_type": "stream",
     "text": [
      "\n"
     ]
    },
    {
     "data": {
      "application/vnd.jupyter.widget-view+json": {
       "model_id": "",
       "version_major": 2,
       "version_minor": 0
      },
      "text/plain": [
       "HBox(children=(FloatProgress(value=0.0, description='Render widgets', max=1.0, style=ProgressStyle(description…"
      ]
     },
     "metadata": {},
     "output_type": "display_data"
    },
    {
     "data": {
      "application/vnd.jupyter.widget-view+json": {
       "model_id": "d5262f67a0b14964aa7b05faecc83412",
       "version_major": 2,
       "version_minor": 0
      },
      "text/plain": [
       "VBox(children=(Tab(children=(Tab(children=(GridBox(children=(VBox(children=(GridspecLayout(children=(HTML(valu…"
      ]
     },
     "metadata": {},
     "output_type": "display_data"
    },
    {
     "data": {
      "application/vnd.jupyter.widget-view+json": {
       "model_id": "751ca3f4fcf64b2d9773f1a023c40fc1",
       "version_major": 2,
       "version_minor": 0
      },
      "text/plain": [
       "HBox(children=(FloatProgress(value=0.0, description='Render HTML', max=1.0, style=ProgressStyle(description_wi…"
      ]
     },
     "metadata": {},
     "output_type": "display_data"
    },
    {
     "name": "stdout",
     "output_type": "stream",
     "text": [
      "\n"
     ]
    },
    {
     "data": {
      "application/vnd.jupyter.widget-view+json": {
       "model_id": "43c3eb2b15e54992aefdbd3e00eb14b1",
       "version_major": 2,
       "version_minor": 0
      },
      "text/plain": [
       "HBox(children=(FloatProgress(value=0.0, description='Export report to file', max=1.0, style=ProgressStyle(desc…"
      ]
     },
     "metadata": {},
     "output_type": "display_data"
    },
    {
     "name": "stdout",
     "output_type": "stream",
     "text": [
      "\n"
     ]
    }
   ],
   "source": [
    "from pandas_profiling import ProfileReport\n",
    "profile = ProfileReport(df, title=\"Pandas Profiling Report\")\n",
    "profile.to_widgets()\n",
    "profile.to_file(\"Pandas Profiling Report.html\")"
   ]
  },
  {
   "cell_type": "markdown",
   "metadata": {},
   "source": [
    "In the pandas profiling it says that there are 22 duplicate rows in dataset. These rows are dropped."
   ]
  },
  {
   "cell_type": "code",
   "execution_count": 91,
   "metadata": {},
   "outputs": [
    {
     "data": {
      "text/plain": [
       "Index(['click', 'impression', 'url_hash', 'ad_id', 'advertiser_id', 'depth',\n",
       "       'position', 'query_id', 'keyword_id', 'title_id', 'description_id',\n",
       "       'user_id'],\n",
       "      dtype='object')"
      ]
     },
     "execution_count": 91,
     "metadata": {},
     "output_type": "execute_result"
    }
   ],
   "source": [
    "df_new = df[['click', 'impression', 'url_hash', 'ad_id', 'advertiser_id', 'depth',\n",
    "       'position', 'query_id', 'keyword_id', 'title_id', 'description_id',\n",
    "       'user_id']]"
   ]
  },
  {
   "cell_type": "code",
   "execution_count": 106,
   "metadata": {},
   "outputs": [],
   "source": [
    "df = df[['click', 'impression', 'url_hash', 'ad_id', 'advertiser_id', 'depth',\n",
    "       'position', 'keyword_id', 'description_id',\n",
    "       'user_id']]"
   ]
  },
  {
   "cell_type": "code",
   "execution_count": 107,
   "metadata": {},
   "outputs": [],
   "source": [
    "df = df.drop_duplicates()"
   ]
  },
  {
   "cell_type": "code",
   "execution_count": 83,
   "metadata": {},
   "outputs": [
    {
     "data": {
      "text/html": [
       "<div>\n",
       "<style scoped>\n",
       "    .dataframe tbody tr th:only-of-type {\n",
       "        vertical-align: middle;\n",
       "    }\n",
       "\n",
       "    .dataframe tbody tr th {\n",
       "        vertical-align: top;\n",
       "    }\n",
       "\n",
       "    .dataframe thead th {\n",
       "        text-align: right;\n",
       "    }\n",
       "</style>\n",
       "<table border=\"1\" class=\"dataframe\">\n",
       "  <thead>\n",
       "    <tr style=\"text-align: right;\">\n",
       "      <th></th>\n",
       "      <th>click</th>\n",
       "      <th>impression</th>\n",
       "      <th>url_hash</th>\n",
       "      <th>ad_id</th>\n",
       "      <th>advertiser_id</th>\n",
       "      <th>depth</th>\n",
       "      <th>position</th>\n",
       "      <th>query_id</th>\n",
       "      <th>keyword_id</th>\n",
       "      <th>title_id</th>\n",
       "      <th>description_id</th>\n",
       "      <th>user_id</th>\n",
       "    </tr>\n",
       "  </thead>\n",
       "  <tbody>\n",
       "    <tr>\n",
       "      <th>0</th>\n",
       "      <td>0</td>\n",
       "      <td>1</td>\n",
       "      <td>1.071003e+19</td>\n",
       "      <td>8343295</td>\n",
       "      <td>11700</td>\n",
       "      <td>3</td>\n",
       "      <td>3</td>\n",
       "      <td>7702266</td>\n",
       "      <td>21264</td>\n",
       "      <td>27892</td>\n",
       "      <td>1559</td>\n",
       "      <td>0</td>\n",
       "    </tr>\n",
       "    <tr>\n",
       "      <th>1</th>\n",
       "      <td>1</td>\n",
       "      <td>1</td>\n",
       "      <td>1.736385e+19</td>\n",
       "      <td>20017077</td>\n",
       "      <td>23798</td>\n",
       "      <td>1</td>\n",
       "      <td>1</td>\n",
       "      <td>93079</td>\n",
       "      <td>35498</td>\n",
       "      <td>4</td>\n",
       "      <td>36476</td>\n",
       "      <td>562934</td>\n",
       "    </tr>\n",
       "    <tr>\n",
       "      <th>2</th>\n",
       "      <td>0</td>\n",
       "      <td>1</td>\n",
       "      <td>8.915473e+18</td>\n",
       "      <td>21348354</td>\n",
       "      <td>36654</td>\n",
       "      <td>1</td>\n",
       "      <td>1</td>\n",
       "      <td>10981</td>\n",
       "      <td>19975</td>\n",
       "      <td>36105</td>\n",
       "      <td>33292</td>\n",
       "      <td>11621116</td>\n",
       "    </tr>\n",
       "    <tr>\n",
       "      <th>3</th>\n",
       "      <td>0</td>\n",
       "      <td>1</td>\n",
       "      <td>4.426693e+18</td>\n",
       "      <td>20366086</td>\n",
       "      <td>33280</td>\n",
       "      <td>3</td>\n",
       "      <td>3</td>\n",
       "      <td>0</td>\n",
       "      <td>5942</td>\n",
       "      <td>4057</td>\n",
       "      <td>4390</td>\n",
       "      <td>8778348</td>\n",
       "    </tr>\n",
       "    <tr>\n",
       "      <th>4</th>\n",
       "      <td>0</td>\n",
       "      <td>1</td>\n",
       "      <td>1.157260e+19</td>\n",
       "      <td>6803526</td>\n",
       "      <td>10790</td>\n",
       "      <td>2</td>\n",
       "      <td>1</td>\n",
       "      <td>9881978</td>\n",
       "      <td>60593</td>\n",
       "      <td>25242</td>\n",
       "      <td>1679</td>\n",
       "      <td>12118311</td>\n",
       "    </tr>\n",
       "  </tbody>\n",
       "</table>\n",
       "</div>"
      ],
      "text/plain": [
       "  click  impression      url_hash     ad_id  advertiser_id  depth  position  \\\n",
       "0     0           1  1.071003e+19   8343295          11700      3         3   \n",
       "1     1           1  1.736385e+19  20017077          23798      1         1   \n",
       "2     0           1  8.915473e+18  21348354          36654      1         1   \n",
       "3     0           1  4.426693e+18  20366086          33280      3         3   \n",
       "4     0           1  1.157260e+19   6803526          10790      2         1   \n",
       "\n",
       "   query_id  keyword_id  title_id  description_id   user_id  \n",
       "0   7702266       21264     27892            1559         0  \n",
       "1     93079       35498         4           36476    562934  \n",
       "2     10981       19975     36105           33292  11621116  \n",
       "3         0        5942      4057            4390   8778348  \n",
       "4   9881978       60593     25242            1679  12118311  "
      ]
     },
     "execution_count": 83,
     "metadata": {},
     "output_type": "execute_result"
    }
   ],
   "source": [
    "df.head()"
   ]
  },
  {
   "cell_type": "code",
   "execution_count": 84,
   "metadata": {},
   "outputs": [
    {
     "data": {
      "text/plain": [
       "6941"
      ]
     },
     "execution_count": 84,
     "metadata": {},
     "output_type": "execute_result"
    }
   ],
   "source": [
    "df[\"url_hash\"].nunique()"
   ]
  },
  {
   "cell_type": "code",
   "execution_count": 85,
   "metadata": {},
   "outputs": [
    {
     "data": {
      "text/plain": [
       "click             0\n",
       "impression        0\n",
       "url_hash          0\n",
       "ad_id             0\n",
       "advertiser_id     0\n",
       "depth             0\n",
       "position          0\n",
       "query_id          0\n",
       "keyword_id        0\n",
       "title_id          0\n",
       "description_id    0\n",
       "user_id           0\n",
       "dtype: int64"
      ]
     },
     "execution_count": 85,
     "metadata": {},
     "output_type": "execute_result"
    }
   ],
   "source": [
    "df.isnull().sum()"
   ]
  },
  {
   "cell_type": "code",
   "execution_count": 62,
   "metadata": {},
   "outputs": [
    {
     "name": "stdout",
     "output_type": "stream",
     "text": [
      "<class 'pandas.core.frame.DataFrame'>\n",
      "Int64Index: 39926 entries, 0 to 39947\n",
      "Data columns (total 12 columns):\n",
      " #   Column          Non-Null Count  Dtype   \n",
      "---  ------          --------------  -----   \n",
      " 0   click           39926 non-null  category\n",
      " 1   impression      39926 non-null  int64   \n",
      " 2   url_hash        39926 non-null  category\n",
      " 3   ad_id           39926 non-null  int64   \n",
      " 4   advertiser_id   39926 non-null  int64   \n",
      " 5   depth           39926 non-null  int64   \n",
      " 6   position        39926 non-null  category\n",
      " 7   query_id        39926 non-null  int64   \n",
      " 8   keyword_id      39926 non-null  int64   \n",
      " 9   title_id        39926 non-null  int64   \n",
      " 10  description_id  39926 non-null  int64   \n",
      " 11  user_id         39926 non-null  int64   \n",
      "dtypes: category(3), int64(9)\n",
      "memory usage: 3.6 MB\n"
     ]
    }
   ],
   "source": [
    "df.info()"
   ]
  },
  {
   "cell_type": "markdown",
   "metadata": {},
   "source": [
    "feature selection variance trehshold\n",
    "feature selection SelectKBest"
   ]
  },
  {
   "cell_type": "code",
   "execution_count": 108,
   "metadata": {},
   "outputs": [],
   "source": [
    "y = df[\"click\"]\n",
    "X = df.iloc[:,1:]"
   ]
  },
  {
   "cell_type": "code",
   "execution_count": 109,
   "metadata": {},
   "outputs": [],
   "source": [
    "X_train, X_validation, y_train, y_validation = train_test_split(\n",
    "    X, y)"
   ]
  },
  {
   "cell_type": "code",
   "execution_count": 121,
   "metadata": {},
   "outputs": [],
   "source": [
    "hyperparameters = {\"n_jobs\": -1, \"class_weight\":\"balanced_subsample\", \"max_depth\":2, \"max_leaf_nodes\":10 }"
   ]
  },
  {
   "cell_type": "code",
   "execution_count": 123,
   "metadata": {},
   "outputs": [],
   "source": [
    "from sklearn.model_selection import cross_val_score, KFold\n",
    "\n",
    "kfold = KFold(n_splits=10, shuffle=True, random_state=42)\n"
   ]
  },
  {
   "cell_type": "code",
   "execution_count": null,
   "metadata": {},
   "outputs": [],
   "source": [
    "import numpy as np \n",
    "C = np.logspace(0, 4, 10)\n",
    "penalty = ['l2', 'none']\n",
    "hyperparameters = dict(C=C, \n",
    "                       penalty=penalty, # type of regularization\n",
    "                       )\n",
    "\n",
    "clf_grid = GridSearchCV(LogisticRegression(),\n",
    "                        hyperparameters,\n",
    "                        cv=5,\n",
    "                        verbose=True,\n",
    ")\n",
    "clf_grid.fit(X_train, y_train);"
   ]
  },
  {
   "cell_type": "code",
   "execution_count": null,
   "metadata": {},
   "outputs": [],
   "source": [
    "clf_grid.best_estimator_.get_params()"
   ]
  },
  {
   "cell_type": "code",
   "execution_count": null,
   "metadata": {},
   "outputs": [],
   "source": [
    "from sklearn.model_selection import RandomizedSearchCV"
   ]
  },
  {
   "cell_type": "code",
   "execution_count": null,
   "metadata": {},
   "outputs": [],
   "source": [
    "clf_rand = RandomizedSearchCV(estimator=LogisticRegression(), \n",
    "                              param_distributions=hyperparameters, \n",
    "                              n_iter=13,\n",
    "                              cv=5,\n",
    "                              verbose=True)\n",
    "clf_rand.fit(X_train, y_train) "
   ]
  },
  {
   "cell_type": "code",
   "execution_count": null,
   "metadata": {},
   "outputs": [],
   "source": [
    "clf_rand.best_estimator_.get_params()"
   ]
  },
  {
   "cell_type": "code",
   "execution_count": null,
   "metadata": {},
   "outputs": [],
   "source": [
    "\n",
    "from sklearn import set_config\n",
    "\n",
    "set_config(display='diagram')\n",
    "\n",
    "pipe_dt "
   ]
  },
  {
   "cell_type": "code",
   "execution_count": 124,
   "metadata": {},
   "outputs": [],
   "source": [
    "results = cross_val_score(pipe, \n",
    "                          X_train,\n",
    "                          y_train, \n",
    "                          cv=kfold\n",
    ")"
   ]
  },
  {
   "cell_type": "code",
   "execution_count": 125,
   "metadata": {},
   "outputs": [
    {
     "name": "stdout",
     "output_type": "stream",
     "text": [
      "The mean training validation accuracy - 0.8314\n"
     ]
    }
   ],
   "source": [
    "print(f\"The mean training validation accuracy - {results.mean():.4f}\")"
   ]
  },
  {
   "cell_type": "code",
   "execution_count": 122,
   "metadata": {},
   "outputs": [
    {
     "data": {
      "text/plain": [
       "Pipeline(steps=[('preprocessing',\n",
       "                 ColumnTransformer(transformers=[('categorical',\n",
       "                                                  Pipeline(steps=[('imputer',\n",
       "                                                                   SimpleImputer(missing_values=0,\n",
       "                                                                                 strategy='most_frequent')),\n",
       "                                                                  ('encoder',\n",
       "                                                                   OneHotEncoder(handle_unknown='ignore'))]),\n",
       "                                                  impression        False\n",
       "url_hash          False\n",
       "ad_id             False\n",
       "advertiser_id     False\n",
       "depth             False\n",
       "position          False\n",
       "keyword_id        False\n",
       "description_id    False\n",
       "user_id           False\n",
       "dtype: bool),\n",
       "                                                 ('continuous',\n",
       "                                                  Pipeline(steps=[('imputer',\n",
       "                                                                   SimpleImputer(add_indicator=True,\n",
       "                                                                                 missing_values=0,\n",
       "                                                                                 strategy='median')),\n",
       "                                                                  ('scaler',\n",
       "                                                                   MinMaxScaler())]),\n",
       "                                                  impression        True\n",
       "url_hash          True\n",
       "ad_id             True\n",
       "advertiser_id     True\n",
       "depth             True\n",
       "position          True\n",
       "keyword_id        True\n",
       "description_id    True\n",
       "user_id           True\n",
       "dtype: bool)])),\n",
       "                ('lm', LogisticRegression())])"
      ]
     },
     "execution_count": 122,
     "metadata": {},
     "output_type": "execute_result"
    }
   ],
   "source": [
    "con_pipe = Pipeline([('imputer', SimpleImputer(missing_values=0 ,strategy='median', add_indicator=True)), \n",
    "                        ('scaler', MinMaxScaler())])\n",
    "\n",
    "cat_pipe = Pipeline([('imputer', SimpleImputer(missing_values=0 , strategy='most_frequent')),\n",
    "                        ('encoder', OneHotEncoder(handle_unknown='ignore'))])\n",
    "\n",
    "preprocessing = ColumnTransformer([('categorical', cat_pipe,  (X_train.dtypes == object)), \n",
    "                                    ('continuous',  con_pipe, ~(X_train.dtypes == object))])\n",
    "\n",
    "pipe = Pipeline([('preprocessing', preprocessing), \n",
    "                    ('lm', LogisticRegression())])\n",
    "\n",
    "pipe.fit(X_train, y_train)"
   ]
  },
  {
   "cell_type": "code",
   "execution_count": 120,
   "metadata": {},
   "outputs": [
    {
     "data": {
      "text/plain": [
       "0.17003519356460534"
      ]
     },
     "execution_count": 120,
     "metadata": {},
     "output_type": "execute_result"
    }
   ],
   "source": [
    "y_pred = pipe.predict(X_validation)\n",
    "mean_absolute_error(y_validation, y_pred)"
   ]
  },
  {
   "cell_type": "code",
   "execution_count": null,
   "metadata": {},
   "outputs": [],
   "source": [
    "results = {}\n",
    "for n_components in range(1, 5):\n",
    "    pipe = Pipeline([('scalar', StandardScaler()),\n",
    "                     ('pca',    PCA(n_components=n_components, random_state=42)),\n",
    "                ])\n",
    "    pipe.fit(X);\n",
    "    results[n_components] = pipe"
   ]
  },
  {
   "cell_type": "code",
   "execution_count": 116,
   "metadata": {},
   "outputs": [
    {
     "name": "stdout",
     "output_type": "stream",
     "text": [
      "Original number of features: 64\n",
      "Reduced number of features:  54\n"
     ]
    }
   ],
   "source": [
    "from sklearn import datasets\n",
    "from sklearn.decomposition import PCA\n",
    "# Load the data\n",
    "digits = datasets.load_digits()\n",
    "# Standardize the feature matrix\n",
    "X = StandardScaler().fit_transform(digits.data)\n",
    "pca = PCA(n_components=0.99) \n",
    "# Conduct PCA\n",
    "X_pca = pca.fit_transform(X)\n",
    "print(f\"Original number of features: {X.shape[1]}\")\n",
    "print(f\"Reduced number of features:  {X_pca.shape[1]}\")"
   ]
  },
  {
   "cell_type": "code",
   "execution_count": 88,
   "metadata": {
    "collapsed": true,
    "jupyter": {
     "outputs_hidden": true
    }
   },
   "outputs": [
    {
     "data": {
      "text/plain": [
       "Pipeline(steps=[('preprocessing',\n",
       "                 ColumnTransformer(transformers=[('categorical',\n",
       "                                                  Pipeline(steps=[('imputer',\n",
       "                                                                   SimpleImputer(strategy='most_frequent')),\n",
       "                                                                  ('encoder',\n",
       "                                                                   HelmertEncoder(handle_unknown='ignore'))]),\n",
       "                                                  impression        False\n",
       "url_hash          False\n",
       "ad_id             False\n",
       "advertiser_id     False\n",
       "depth             False\n",
       "position          False\n",
       "query_id          False\n",
       "keyword_id        False\n",
       "title_id          False\n",
       "description_id    False\n",
       "user_id           False\n",
       "dtype: bool),\n",
       "                                                 ('continuous',\n",
       "                                                  Pipeline(steps=[('imputer',\n",
       "                                                                   SimpleImputer(add_indicator=True,\n",
       "                                                                                 missing_values=0,\n",
       "                                                                                 strategy='median')),\n",
       "                                                                  ('scaler',\n",
       "                                                                   StandardScaler())]),\n",
       "                                                  impression        True\n",
       "url_hash          True\n",
       "ad_id             True\n",
       "advertiser_id     True\n",
       "depth             True\n",
       "position          True\n",
       "query_id          True\n",
       "keyword_id        True\n",
       "title_id          True\n",
       "description_id    True\n",
       "user_id           True\n",
       "dtype: bool)])),\n",
       "                ('lm', ExtraTreeClassifier())])"
      ]
     },
     "execution_count": 88,
     "metadata": {},
     "output_type": "execute_result"
    }
   ],
   "source": [
    "con_pipe = Pipeline([('imputer', SimpleImputer(missing_values=0 ,strategy='median', add_indicator=True)), \n",
    "                        ('scaler', StandardScaler())])\n",
    "\n",
    "cat_pipe = Pipeline([('imputer', SimpleImputer(strategy='most_frequent')),\n",
    "                        ('encoder', HelmertEncoder(handle_unknown='ignore'))])\n",
    "\n",
    "preprocessing = ColumnTransformer([('categorical', cat_pipe,  (X_train.dtypes == object)), \n",
    "                                    ('continuous',  con_pipe, ~(X_train.dtypes == object))])\n",
    "\n",
    "pipe = Pipeline([('preprocessing', preprocessing), \n",
    "                    ('lm', ExtraTreeClassifier())])\n",
    "\n",
    "pipe.fit(X_train, y_train)"
   ]
  },
  {
   "cell_type": "markdown",
   "metadata": {},
   "source": [
    "Evaluation Metric\n",
    "----"
   ]
  },
  {
   "cell_type": "code",
   "execution_count": 126,
   "metadata": {},
   "outputs": [],
   "source": [
    "from sklearn.metrics import accuracy_score"
   ]
  },
  {
   "cell_type": "code",
   "execution_count": 100,
   "metadata": {},
   "outputs": [
    {
     "data": {
      "text/plain": [
       "0.16129032258064516"
      ]
     },
     "execution_count": 100,
     "metadata": {},
     "output_type": "execute_result"
    }
   ],
   "source": [
    "y_pred = pipe.predict(X_validation)\n",
    "mean_absolute_error(y_validation, y_pred)"
   ]
  },
  {
   "cell_type": "code",
   "execution_count": 127,
   "metadata": {},
   "outputs": [
    {
     "data": {
      "text/plain": [
       "0.8299648064353947"
      ]
     },
     "execution_count": 127,
     "metadata": {},
     "output_type": "execute_result"
    }
   ],
   "source": [
    "accuracy_score(y_validation, y_pred)"
   ]
  },
  {
   "cell_type": "code",
   "execution_count": null,
   "metadata": {},
   "outputs": [],
   "source": []
  }
 ],
 "metadata": {
  "kernelspec": {
   "display_name": "Python 3",
   "language": "python",
   "name": "python3"
  },
  "language_info": {
   "codemirror_mode": {
    "name": "ipython",
    "version": 3
   },
   "file_extension": ".py",
   "mimetype": "text/x-python",
   "name": "python",
   "nbconvert_exporter": "python",
   "pygments_lexer": "ipython3",
   "version": "3.8.2"
  }
 },
 "nbformat": 4,
 "nbformat_minor": 4
}
